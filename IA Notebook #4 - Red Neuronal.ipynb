{
 "cells": [
  {
   "cell_type": "code",
   "execution_count": 50,
   "id": "27a55e9c",
   "metadata": {},
   "outputs": [],
   "source": [
    "import numpy as np\n",
    "import scipy as sc\n",
    "import matplotlib.pyplot as plt\n",
    "\n",
    "from sklearn.datasets import make_circles\n"
   ]
  },
  {
   "cell_type": "code",
   "execution_count": 51,
   "id": "8f4f59e5",
   "metadata": {},
   "outputs": [
    {
     "data": {
      "image/png": "[encoded data removed]",
      "text/plain": [
       "<Figure size 432x288 with 1 Axes>"
      ]
     },
     "metadata": {
      "needs_background": "light"
     },
     "output_type": "display_data"
    }
   ],
   "source": [
    "#Crear el Dataset\n",
    "n = 500 #Numero de muestras\n",
    "p = 2 #Características o parámetros que se utilizan de cada muestra\n",
    "\n",
    "X, Y = make_circles(n_samples = n, factor = 0.5, noise = 0.05)\n",
    "Y = Y[:, np.newaxis]\n",
    "\n",
    "plt.scatter(X[Y[:, 0] == 0, 0], X[Y[:, 0] == 0, 1], c =\"skyblue\")\n",
    "plt.scatter(X[Y[:, 0] == 1, 0], X[Y[:, 0] == 1, 1], c =\"salmon\")\n",
    "plt.axis(\"equal\")\n",
    "plt.show()"
   ]
  },
  {
   "cell_type": "code",
   "execution_count": 79,
   "id": "b961fbcc",
   "metadata": {},
   "outputs": [
    {
     "data": {
      "text/plain": [
       "(500, 1)"
      ]
     },
     "execution_count": 79,
     "metadata": {},
     "output_type": "execute_result"
    }
   ],
   "source": [
    "Y.shape"
   ]
  },
  {
   "cell_type": "code",
   "execution_count": 52,
   "id": "669de4fa",
   "metadata": {},
   "outputs": [
    {
     "data": {
      "text/plain": [
       "[<matplotlib.lines.Line2D at 0x2c92a131550>]"
      ]
     },
     "execution_count": 52,
     "metadata": {},
     "output_type": "execute_result"
    },
    {
     "data": {
      "image/png": "[encoded data removed]",
      "text/plain": [
       "<Figure size 432x288 with 1 Axes>"
      ]
     },
     "metadata": {
      "needs_background": "light"
     },
     "output_type": "display_data"
    }
   ],
   "source": [
    "#Clase de la capa de la Red Neuronal\n",
    "class neural_layer():\n",
    "    def __init__(self, n_conn, n_neur, act_f):\n",
    "        self.act_f = act_f\n",
    "        self.b = np.random.rand(1, n_neur) * 2 - 1 #[0,1] * 2 = [0,2] - 1 = [-1,1]\n",
    "        self.W = np.random.rand(1, n_neur) * 2 - 1 #[0,1] * 2 = [0,2] - 1 = [-1,1]\n",
    "        \n",
    "#Funciones de Activación\n",
    "sigm = (lambda x: 1 / (1 + np.e**(-x)), #Así se definen dos funciones y se selecciona con sigm[0] o [1]\n",
    "        lambda x: x * (1 - x)) #Derivada de la función sigmoide\n",
    "\n",
    "relu = lambda x: np.maximum(0, x)\n",
    "\n",
    "_x = np.linspace(-5, 5, 100)\n",
    "plt.plot(_x, sigm[0](_x))"
   ]
  },
  {
   "cell_type": "code",
   "execution_count": 87,
   "id": "99b24927",
   "metadata": {
    "scrolled": false
   },
   "outputs": [],
   "source": [
    "l0 = neural_layer(p, 4, sigm) #layer 0, capa 0, p = conexiones de entrada, 4 neuronas y activacion\n",
    "l1 = neural_layer(4, 8, sigm) # p= conexiones es 4, 8 neuronas(4+4) y activacion\n",
    "\n",
    "def create_nn(topology, act_f):\n",
    "    \n",
    "    nn = []\n",
    "    \n",
    "    for l, layer in enumerate(topology[:-1]):\n",
    "        nn.append(neural_layer(topology[l], topology[l+1], act_f))\n",
    "    return nn\n"
   ]
  },
  {
   "cell_type": "code",
   "execution_count": 90,
   "id": "ca265c50",
   "metadata": {},
   "outputs": [],
   "source": [
    "topology = [p, 4, 8, 16]\n",
    "\n",
    "neural_net = create_nn(topology, sigm)\n",
    "\n",
    "l2_cost = (lambda Yp, Yr: np.mean((Yp- Yr)**2),\n",
    "          lambda Yp, Yr: (Yp - Yr)) #Derivada del coste"
   ]
  },
  {
   "cell_type": "code",
   "execution_count": 95,
   "id": "8de60794",
   "metadata": {},
   "outputs": [
    {
     "ename": "ValueError",
     "evalue": "shapes (500,2) and (1,4) not aligned: 2 (dim 1) != 1 (dim 0)",
     "output_type": "error",
     "traceback": [
      "\u001b[1;31m---------------------------------------------------------------------------\u001b[0m",
      "\u001b[1;31mValueError\u001b[0m                                Traceback (most recent call last)",
      "\u001b[1;32m<ipython-input-95-18867c7ee461>\u001b[0m in \u001b[0;36m<module>\u001b[1;34m\u001b[0m\n\u001b[0;32m     33\u001b[0m \u001b[1;33m\u001b[0m\u001b[0m\n\u001b[0;32m     34\u001b[0m     \u001b[1;32mreturn\u001b[0m \u001b[0mout\u001b[0m\u001b[1;33m[\u001b[0m\u001b[1;33m-\u001b[0m\u001b[1;36m1\u001b[0m\u001b[1;33m]\u001b[0m\u001b[1;33m[\u001b[0m\u001b[1;36m1\u001b[0m\u001b[1;33m]\u001b[0m\u001b[1;33m\u001b[0m\u001b[1;33m\u001b[0m\u001b[0m\n\u001b[1;32m---> 35\u001b[1;33m \u001b[0mtrain\u001b[0m\u001b[1;33m(\u001b[0m\u001b[0mneural_net\u001b[0m\u001b[1;33m,\u001b[0m \u001b[0mX\u001b[0m\u001b[1;33m,\u001b[0m \u001b[0mY\u001b[0m\u001b[1;33m,\u001b[0m \u001b[0ml2_cost\u001b[0m\u001b[1;33m,\u001b[0m \u001b[1;36m0.5\u001b[0m\u001b[1;33m)\u001b[0m\u001b[1;33m\u001b[0m\u001b[1;33m\u001b[0m\u001b[0m\n\u001b[0m",
      "\u001b[1;32m<ipython-input-95-18867c7ee461>\u001b[0m in \u001b[0;36mtrain\u001b[1;34m(neural_net, X, Y, l2_cost, lr, train)\u001b[0m\n\u001b[0;32m      8\u001b[0m     \u001b[1;32mfor\u001b[0m \u001b[0ml\u001b[0m\u001b[1;33m,\u001b[0m \u001b[0mlayer\u001b[0m \u001b[1;32min\u001b[0m \u001b[0menumerate\u001b[0m\u001b[1;33m(\u001b[0m\u001b[0mneural_net\u001b[0m\u001b[1;33m)\u001b[0m\u001b[1;33m:\u001b[0m\u001b[1;33m\u001b[0m\u001b[1;33m\u001b[0m\u001b[0m\n\u001b[0;32m      9\u001b[0m \u001b[1;33m\u001b[0m\u001b[0m\n\u001b[1;32m---> 10\u001b[1;33m         \u001b[0mz\u001b[0m \u001b[1;33m=\u001b[0m \u001b[0mnp\u001b[0m\u001b[1;33m.\u001b[0m\u001b[0mdot\u001b[0m\u001b[1;33m(\u001b[0m\u001b[0mout\u001b[0m\u001b[1;33m[\u001b[0m\u001b[1;33m-\u001b[0m\u001b[1;36m1\u001b[0m\u001b[1;33m]\u001b[0m\u001b[1;33m[\u001b[0m\u001b[1;36m1\u001b[0m\u001b[1;33m]\u001b[0m\u001b[1;33m,\u001b[0m \u001b[0mneural_net\u001b[0m\u001b[1;33m[\u001b[0m\u001b[0ml\u001b[0m\u001b[1;33m]\u001b[0m\u001b[1;33m.\u001b[0m\u001b[0mW\u001b[0m\u001b[1;33m)\u001b[0m \u001b[1;33m+\u001b[0m \u001b[0mneural_net\u001b[0m\u001b[1;33m[\u001b[0m\u001b[0ml\u001b[0m\u001b[1;33m]\u001b[0m\u001b[1;33m.\u001b[0m\u001b[0mb\u001b[0m\u001b[1;33m\u001b[0m\u001b[1;33m\u001b[0m\u001b[0m\n\u001b[0m\u001b[0;32m     11\u001b[0m         \u001b[0ma\u001b[0m \u001b[1;33m=\u001b[0m \u001b[0mneural_net\u001b[0m\u001b[1;33m[\u001b[0m\u001b[0ml\u001b[0m\u001b[1;33m]\u001b[0m\u001b[1;33m.\u001b[0m\u001b[0mact_f\u001b[0m\u001b[1;33m[\u001b[0m\u001b[1;36m0\u001b[0m\u001b[1;33m]\u001b[0m\u001b[1;33m(\u001b[0m\u001b[0mz\u001b[0m\u001b[1;33m)\u001b[0m\u001b[1;33m\u001b[0m\u001b[1;33m\u001b[0m\u001b[0m\n\u001b[0;32m     12\u001b[0m \u001b[1;33m\u001b[0m\u001b[0m\n",
      "\u001b[1;32m<__array_function__ internals>\u001b[0m in \u001b[0;36mdot\u001b[1;34m(*args, **kwargs)\u001b[0m\n",
      "\u001b[1;31mValueError\u001b[0m: shapes (500,2) and (1,4) not aligned: 2 (dim 1) != 1 (dim 0)"
     ]
    }
   ],
   "source": [
    "X.shape\n",
    "#Función de Entrenamiento\n",
    "\n",
    "def train(neural_net, X, Y, l2_cost, lr = 0.5, train = True):\n",
    "    out = [(None, X)]\n",
    "    \n",
    "    #Forward pass\n",
    "    for l, layer in enumerate(neural_net):\n",
    "    \n",
    "        z = np.dot(out[-1][1], neural_net[l].W) + neural_net[l].b\n",
    "        a = neural_net[l].act_f[0](z)\n",
    "        \n",
    "        out.append((z, a))\n",
    "    \n",
    "    if train:\n",
    "        #Backwards Pass\n",
    "        deltas = []\n",
    "        for l in reversed(range(0, len(neural_net))):\n",
    "            z = out[l+1][0]\n",
    "            a = out[l+1][1]\n",
    "            \n",
    "            if l == len(neural_net) - 1:\n",
    "                #Calculamos delta 0 ultima capa\n",
    "                deltas.insert(0, l2_cost[1](a, Y) * neural_net[l].act_f[1](a))\n",
    "            else:\n",
    "                #Calculamos delta respecto a capa previa\n",
    "                deltas.insert(0, np.dot(deltas[0], _W.T) * neural_net[l].act_f[1](a))\n",
    "            _W = neural_net[l].W\n",
    "            \n",
    "        #Gradient Descent\n",
    "        neural_net[1].b = neural_net[l].b - np.mean(deltas[0], axis=0, keepdims=True) * lr\n",
    "        neural_net[1].W = neural_net[l].W - np.dot(out[l][1].T, deltas[0]) * lr\n",
    "        \n",
    "    return out[-1][1]\n",
    "\n",
    "train(neural_net, X, Y, l2_cost, 0.5)"
   ]
  },
  {
   "cell_type": "code",
   "execution_count": null,
   "id": "4ce32dae",
   "metadata": {},
   "outputs": [],
   "source": []
  }
 ],
 "metadata": {
  "kernelspec": {
   "display_name": "Python 3",
   "language": "python",
   "name": "python3"
  },
  "language_info": {
   "codemirror_mode": {
    "name": "ipython",
    "version": 3
   },
   "file_extension": ".py",
   "mimetype": "text/x-python",
   "name": "python",
   "nbconvert_exporter": "python",
   "pygments_lexer": "ipython3",
   "version": "3.8.8"
  }
 },
 "nbformat": 4,
 "nbformat_minor": 5
}
